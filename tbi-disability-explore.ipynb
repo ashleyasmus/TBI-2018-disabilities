{
 "cells": [
  {
   "cell_type": "code",
   "execution_count": 17,
   "metadata": {},
   "outputs": [],
   "source": [
    "# Read in 2018 data\n",
    "tbi18<-read.csv(\"C://Users/AsmusAL/Metropolitan Council/Ehrlich, Jonathan - TBI_UnweightedQ1Deliverable/Interim_Dataset/person_table.csv\")\n",
    "# Read in 2010 data"
   ]
  },
  {
   "cell_type": "code",
   "execution_count": 24,
   "metadata": {},
   "outputs": [
    {
     "data": {
      "text/html": [
       "0.0307113136516743"
      ],
      "text/latex": [
       "0.0307113136516743"
      ],
      "text/markdown": [
       "0.0307113136516743"
      ],
      "text/plain": [
       "[1] 0.03071131"
      ]
     },
     "metadata": {},
     "output_type": "display_data"
    },
    {
     "data": {
      "text/html": [
       "155"
      ],
      "text/latex": [
       "155"
      ],
      "text/markdown": [
       "155"
      ],
      "text/plain": [
       "[1] 155"
      ]
     },
     "metadata": {},
     "output_type": "display_data"
    },
    {
     "data": {
      "text/html": [
       "5047"
      ],
      "text/latex": [
       "5047"
      ],
      "text/markdown": [
       "5047"
      ],
      "text/plain": [
       "[1] 5047"
      ]
     },
     "metadata": {},
     "output_type": "display_data"
    }
   ],
   "source": [
    "nrow(tbi18[tbi18$disability == 1,])/nrow(tbi18)\n",
    "# 0.0307 with a disability\n",
    "nrow(tbi18[tbi18$disability == 1,])\n",
    "# 155 ppl with a disability\n",
    "nrow(tbi18)\n",
    "# 5047 unique ppl in tbi18aset"
   ]
  },
  {
   "cell_type": "code",
   "execution_count": null,
   "metadata": {},
   "outputs": [],
   "source": []
  }
 ],
 "metadata": {
  "kernelspec": {
   "display_name": "R",
   "language": "R",
   "name": "ir"
  },
  "language_info": {
   "codemirror_mode": "r",
   "file_extension": ".r",
   "mimetype": "text/x-r-source",
   "name": "R",
   "pygments_lexer": "r",
   "version": "3.6.1"
  }
 },
 "nbformat": 4,
 "nbformat_minor": 2
}
